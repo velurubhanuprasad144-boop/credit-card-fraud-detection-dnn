{
  "cells": [
    {
      "cell_type": "markdown",
      "source": [
        "# **Credit Card Fraud Detection Using Deep Neural Networks**\n",
        "\n",
        "## Gisma University of Applied Sciences\n",
        "## Bhanuprasad Veluru\n",
        "## GH1034075"
      ],
      "metadata": {
        "id": "SNa7k8lBNN0v"
      },
      "id": "SNa7k8lBNN0v"
    },
    {
      "cell_type": "markdown",
      "source": [
        "## **Problem Statement**\n",
        "## Business Context\n",
        "In this digital world financial institutions and payment  companies are faceing  threat of the credit card fraud which leads to  billions of dollars in annual losses across the world. Fraudsters are exploiting system loopholes to make the unauthorized transactions. this not only lead to the direct financial damage but also treath to customer trust and also increase operational costs due to manual investigations and reimbursements.\n",
        "\n",
        "## Problem Definition\n",
        "Our company the financial technology provider handles millions of credit card transactions a day. Despite of the  existing rule based fraud detection systems these are limited in adaptability of those system which leads to failing to catch novel fraud patterns and  triggering excessive false alarms that burden customer service teams in the company.\n",
        "\n",
        "So the goal of the project is to design, implement and evaluate a end to end machine learning pipeline capable of accurately detecting the fraud credit card transactions using deep Nural Network.\n",
        "\n",
        "## Why This Is Important\n",
        "**Prevention of Financial Losses** Early detection of this frauds reduces the window for unauthorized usage and prevents larger downstream fraud.\n",
        "\n",
        "**Customer Trust** Improved fraud detection minimises false positives and also preserv customer satisfaction.\n",
        "\n",
        "**Operational Efficiency** This system will privent the burden on the review team.\n",
        "\n",
        "## Data Collection\n",
        "The data used fin the pipeline is based on  real world anonymised dataset from the European cardholders (from Kaggle). It has the  metadata such as time, amount and 28 anonymized principal components derived from PCA of the transaction. In a real world scenario the data will be collected from:\n",
        "\n",
        "Payment gateway\n",
        "\n",
        "Transaction processing systems\n",
        "\n",
        "Customer profiles\n",
        "\n",
        "## ML Task Formulation\n",
        "**We frame this as a binary classification task**\n",
        "\n",
        "Class = 1 indicates a fraudu transaction\n",
        "\n",
        "Class = 0 indicates a legit transaction\n",
        "\n",
        "\n",
        "\n"
      ],
      "metadata": {
        "id": "g0NhKbu4es6U"
      },
      "id": "g0NhKbu4es6U"
    },
    {
      "cell_type": "markdown",
      "source": [
        "#Importing Required Libraries"
      ],
      "metadata": {
        "id": "Qd10-0SnSH86"
      },
      "id": "Qd10-0SnSH86"
    },
    {
      "cell_type": "code",
      "source": [
        "\n",
        "!pip install -q seaborn imbalanced-learn kagglehub[pandas-datasets]\n",
        "\n",
        "import pandas as pd\n",
        "import numpy as np\n",
        "import matplotlib.pyplot as plt\n",
        "from sklearn.metrics import classification_report, confusion_matrix, roc_auc_score, RocCurveDisplay\n",
        "from imblearn.over_sampling import SMOTE\n",
        "\n",
        "import matplotlib.pyplot as plt\n",
        "import seaborn as sns\n",
        "\n",
        "\n",
        "from sklearn.model_selection import train_test_split\n",
        "from sklearn.preprocessing import StandardScaler\n",
        "from sklearn.utils.class_weight import compute_class_weight\n",
        "from sklearn.metrics import (\n",
        "    classification_report,\n",
        "    confusion_matrix,\n",
        "    roc_auc_score,\n",
        "    precision_recall_curve,\n",
        "    roc_curve,\n",
        "    RocCurveDisplay\n",
        ")\n",
        "\n",
        "\n",
        "from tensorflow.keras.models import Sequential\n",
        "from tensorflow.keras.layers import Dense, Dropout, BatchNormalization, Input\n",
        "from tensorflow.keras.optimizers import Adam\n",
        "from tensorflow.keras.callbacks import EarlyStopping\n",
        "\n",
        "import kagglehub\n",
        "from kagglehub import KaggleDatasetAdapter"
      ],
      "metadata": {
        "id": "-VekBVv_SGBv"
      },
      "id": "-VekBVv_SGBv",
      "execution_count": null,
      "outputs": []
    },
    {
      "cell_type": "markdown",
      "source": [
        "# Data Extraction from Kaggle"
      ],
      "metadata": {
        "id": "xZtpa8dDSR5F"
      },
      "id": "xZtpa8dDSR5F"
    },
    {
      "cell_type": "code",
      "source": [
        "file_path = \"creditcard.csv\"\n",
        "\n",
        "df = kagglehub.load_dataset(\n",
        "    KaggleDatasetAdapter.PANDAS,\n",
        "    \"mlg-ulb/creditcardfraud\",\n",
        "    file_path\n",
        ")\n",
        "\n",
        "print(\"Shape of dataset:\", df.shape)\n",
        "display(df.head())\n"
      ],
      "metadata": {
        "colab": {
          "base_uri": "https://localhost:8080/",
          "height": 309
        },
        "id": "o-yusIZXSRm3",
        "outputId": "d6fa76fb-b501-46a4-f9be-78f1b7cfa995"
      },
      "id": "o-yusIZXSRm3",
      "execution_count": null,
      "outputs": [
        {
          "output_type": "stream",
          "name": "stderr",
          "text": [
            "/tmp/ipython-input-16-3334106610.py:3: DeprecationWarning: load_dataset is deprecated and will be removed in a future version.\n",
            "  df = kagglehub.load_dataset(\n"
          ]
        },
        {
          "output_type": "stream",
          "name": "stdout",
          "text": [
            "Shape of dataset: (284807, 31)\n"
          ]
        },
        {
          "output_type": "display_data",
          "data": {
            "text/plain": [
              "   Time        V1        V2        V3        V4        V5        V6        V7  \\\n",
              "0   0.0 -1.359807 -0.072781  2.536347  1.378155 -0.338321  0.462388  0.239599   \n",
              "1   0.0  1.191857  0.266151  0.166480  0.448154  0.060018 -0.082361 -0.078803   \n",
              "2   1.0 -1.358354 -1.340163  1.773209  0.379780 -0.503198  1.800499  0.791461   \n",
              "3   1.0 -0.966272 -0.185226  1.792993 -0.863291 -0.010309  1.247203  0.237609   \n",
              "4   2.0 -1.158233  0.877737  1.548718  0.403034 -0.407193  0.095921  0.592941   \n",
              "\n",
              "         V8        V9  ...       V21       V22       V23       V24       V25  \\\n",
              "0  0.098698  0.363787  ... -0.018307  0.277838 -0.110474  0.066928  0.128539   \n",
              "1  0.085102 -0.255425  ... -0.225775 -0.638672  0.101288 -0.339846  0.167170   \n",
              "2  0.247676 -1.514654  ...  0.247998  0.771679  0.909412 -0.689281 -0.327642   \n",
              "3  0.377436 -1.387024  ... -0.108300  0.005274 -0.190321 -1.175575  0.647376   \n",
              "4 -0.270533  0.817739  ... -0.009431  0.798278 -0.137458  0.141267 -0.206010   \n",
              "\n",
              "        V26       V27       V28  Amount  Class  \n",
              "0 -0.189115  0.133558 -0.021053  149.62      0  \n",
              "1  0.125895 -0.008983  0.014724    2.69      0  \n",
              "2 -0.139097 -0.055353 -0.059752  378.66      0  \n",
              "3 -0.221929  0.062723  0.061458  123.50      0  \n",
              "4  0.502292  0.219422  0.215153   69.99      0  \n",
              "\n",
              "[5 rows x 31 columns]"
            ],
            "text/html": [
              "\n",
              "  <div id=\"df-dcd8b970-ea91-4202-b62f-85cd0b440d6d\" class=\"colab-df-container\">\n",
              "    <div>\n",
              "<style scoped>\n",
              "    .dataframe tbody tr th:only-of-type {\n",
              "        vertical-align: middle;\n",
              "    }\n",
              "\n",
              "    .dataframe tbody tr th {\n",
              "        vertical-align: top;\n",
              "    }\n",
              "\n",
              "    .dataframe thead th {\n",
              "        text-align: right;\n",
              "    }\n",
              "</style>\n",
              "<table border=\"1\" class=\"dataframe\">\n",
              "  <thead>\n",
              "    <tr style=\"text-align: right;\">\n",
              "      <th></th>\n",
              "      <th>Time</th>\n",
              "      <th>V1</th>\n",
              "      <th>V2</th>\n",
              "      <th>V3</th>\n",
              "      <th>V4</th>\n",
              "      <th>V5</th>\n",
              "      <th>V6</th>\n",
              "      <th>V7</th>\n",
              "      <th>V8</th>\n",
              "      <th>V9</th>\n",
              "      <th>...</th>\n",
              "      <th>V21</th>\n",
              "      <th>V22</th>\n",
              "      <th>V23</th>\n",
              "      <th>V24</th>\n",
              "      <th>V25</th>\n",
              "      <th>V26</th>\n",
              "      <th>V27</th>\n",
              "      <th>V28</th>\n",
              "      <th>Amount</th>\n",
              "      <th>Class</th>\n",
              "    </tr>\n",
              "  </thead>\n",
              "  <tbody>\n",
              "    <tr>\n",
              "      <th>0</th>\n",
              "      <td>0.0</td>\n",
              "      <td>-1.359807</td>\n",
              "      <td>-0.072781</td>\n",
              "      <td>2.536347</td>\n",
              "      <td>1.378155</td>\n",
              "      <td>-0.338321</td>\n",
              "      <td>0.462388</td>\n",
              "      <td>0.239599</td>\n",
              "      <td>0.098698</td>\n",
              "      <td>0.363787</td>\n",
              "      <td>...</td>\n",
              "      <td>-0.018307</td>\n",
              "      <td>0.277838</td>\n",
              "      <td>-0.110474</td>\n",
              "      <td>0.066928</td>\n",
              "      <td>0.128539</td>\n",
              "      <td>-0.189115</td>\n",
              "      <td>0.133558</td>\n",
              "      <td>-0.021053</td>\n",
              "      <td>149.62</td>\n",
              "      <td>0</td>\n",
              "    </tr>\n",
              "    <tr>\n",
              "      <th>1</th>\n",
              "      <td>0.0</td>\n",
              "      <td>1.191857</td>\n",
              "      <td>0.266151</td>\n",
              "      <td>0.166480</td>\n",
              "      <td>0.448154</td>\n",
              "      <td>0.060018</td>\n",
              "      <td>-0.082361</td>\n",
              "      <td>-0.078803</td>\n",
              "      <td>0.085102</td>\n",
              "      <td>-0.255425</td>\n",
              "      <td>...</td>\n",
              "      <td>-0.225775</td>\n",
              "      <td>-0.638672</td>\n",
              "      <td>0.101288</td>\n",
              "      <td>-0.339846</td>\n",
              "      <td>0.167170</td>\n",
              "      <td>0.125895</td>\n",
              "      <td>-0.008983</td>\n",
              "      <td>0.014724</td>\n",
              "      <td>2.69</td>\n",
              "      <td>0</td>\n",
              "    </tr>\n",
              "    <tr>\n",
              "      <th>2</th>\n",
              "      <td>1.0</td>\n",
              "      <td>-1.358354</td>\n",
              "      <td>-1.340163</td>\n",
              "      <td>1.773209</td>\n",
              "      <td>0.379780</td>\n",
              "      <td>-0.503198</td>\n",
              "      <td>1.800499</td>\n",
              "      <td>0.791461</td>\n",
              "      <td>0.247676</td>\n",
              "      <td>-1.514654</td>\n",
              "      <td>...</td>\n",
              "      <td>0.247998</td>\n",
              "      <td>0.771679</td>\n",
              "      <td>0.909412</td>\n",
              "      <td>-0.689281</td>\n",
              "      <td>-0.327642</td>\n",
              "      <td>-0.139097</td>\n",
              "      <td>-0.055353</td>\n",
              "      <td>-0.059752</td>\n",
              "      <td>378.66</td>\n",
              "      <td>0</td>\n",
              "    </tr>\n",
              "    <tr>\n",
              "      <th>3</th>\n",
              "      <td>1.0</td>\n",
              "      <td>-0.966272</td>\n",
              "      <td>-0.185226</td>\n",
              "      <td>1.792993</td>\n",
              "      <td>-0.863291</td>\n",
              "      <td>-0.010309</td>\n",
              "      <td>1.247203</td>\n",
              "      <td>0.237609</td>\n",
              "      <td>0.377436</td>\n",
              "      <td>-1.387024</td>\n",
              "      <td>...</td>\n",
              "      <td>-0.108300</td>\n",
              "      <td>0.005274</td>\n",
              "      <td>-0.190321</td>\n",
              "      <td>-1.175575</td>\n",
              "      <td>0.647376</td>\n",
              "      <td>-0.221929</td>\n",
              "      <td>0.062723</td>\n",
              "      <td>0.061458</td>\n",
              "      <td>123.50</td>\n",
              "      <td>0</td>\n",
              "    </tr>\n",
              "    <tr>\n",
              "      <th>4</th>\n",
              "      <td>2.0</td>\n",
              "      <td>-1.158233</td>\n",
              "      <td>0.877737</td>\n",
              "      <td>1.548718</td>\n",
              "      <td>0.403034</td>\n",
              "      <td>-0.407193</td>\n",
              "      <td>0.095921</td>\n",
              "      <td>0.592941</td>\n",
              "      <td>-0.270533</td>\n",
              "      <td>0.817739</td>\n",
              "      <td>...</td>\n",
              "      <td>-0.009431</td>\n",
              "      <td>0.798278</td>\n",
              "      <td>-0.137458</td>\n",
              "      <td>0.141267</td>\n",
              "      <td>-0.206010</td>\n",
              "      <td>0.502292</td>\n",
              "      <td>0.219422</td>\n",
              "      <td>0.215153</td>\n",
              "      <td>69.99</td>\n",
              "      <td>0</td>\n",
              "    </tr>\n",
              "  </tbody>\n",
              "</table>\n",
              "<p>5 rows × 31 columns</p>\n",
              "</div>\n",
              "    <div class=\"colab-df-buttons\">\n",
              "\n",
              "  <div class=\"colab-df-container\">\n",
              "    <button class=\"colab-df-convert\" onclick=\"convertToInteractive('df-dcd8b970-ea91-4202-b62f-85cd0b440d6d')\"\n",
              "            title=\"Convert this dataframe to an interactive table.\"\n",
              "            style=\"display:none;\">\n",
              "\n",
              "  <svg xmlns=\"http://www.w3.org/2000/svg\" height=\"24px\" viewBox=\"0 -960 960 960\">\n",
              "    <path d=\"M120-120v-720h720v720H120Zm60-500h600v-160H180v160Zm220 220h160v-160H400v160Zm0 220h160v-160H400v160ZM180-400h160v-160H180v160Zm440 0h160v-160H620v160ZM180-180h160v-160H180v160Zm440 0h160v-160H620v160Z\"/>\n",
              "  </svg>\n",
              "    </button>\n",
              "\n",
              "  <style>\n",
              "    .colab-df-container {\n",
              "      display:flex;\n",
              "      gap: 12px;\n",
              "    }\n",
              "\n",
              "    .colab-df-convert {\n",
              "      background-color: #E8F0FE;\n",
              "      border: none;\n",
              "      border-radius: 50%;\n",
              "      cursor: pointer;\n",
              "      display: none;\n",
              "      fill: #1967D2;\n",
              "      height: 32px;\n",
              "      padding: 0 0 0 0;\n",
              "      width: 32px;\n",
              "    }\n",
              "\n",
              "    .colab-df-convert:hover {\n",
              "      background-color: #E2EBFA;\n",
              "      box-shadow: 0px 1px 2px rgba(60, 64, 67, 0.3), 0px 1px 3px 1px rgba(60, 64, 67, 0.15);\n",
              "      fill: #174EA6;\n",
              "    }\n",
              "\n",
              "    .colab-df-buttons div {\n",
              "      margin-bottom: 4px;\n",
              "    }\n",
              "\n",
              "    [theme=dark] .colab-df-convert {\n",
              "      background-color: #3B4455;\n",
              "      fill: #D2E3FC;\n",
              "    }\n",
              "\n",
              "    [theme=dark] .colab-df-convert:hover {\n",
              "      background-color: #434B5C;\n",
              "      box-shadow: 0px 1px 3px 1px rgba(0, 0, 0, 0.15);\n",
              "      filter: drop-shadow(0px 1px 2px rgba(0, 0, 0, 0.3));\n",
              "      fill: #FFFFFF;\n",
              "    }\n",
              "  </style>\n",
              "\n",
              "    <script>\n",
              "      const buttonEl =\n",
              "        document.querySelector('#df-dcd8b970-ea91-4202-b62f-85cd0b440d6d button.colab-df-convert');\n",
              "      buttonEl.style.display =\n",
              "        google.colab.kernel.accessAllowed ? 'block' : 'none';\n",
              "\n",
              "      async function convertToInteractive(key) {\n",
              "        const element = document.querySelector('#df-dcd8b970-ea91-4202-b62f-85cd0b440d6d');\n",
              "        const dataTable =\n",
              "          await google.colab.kernel.invokeFunction('convertToInteractive',\n",
              "                                                    [key], {});\n",
              "        if (!dataTable) return;\n",
              "\n",
              "        const docLinkHtml = 'Like what you see? Visit the ' +\n",
              "          '<a target=\"_blank\" href=https://colab.research.google.com/notebooks/data_table.ipynb>data table notebook</a>'\n",
              "          + ' to learn more about interactive tables.';\n",
              "        element.innerHTML = '';\n",
              "        dataTable['output_type'] = 'display_data';\n",
              "        await google.colab.output.renderOutput(dataTable, element);\n",
              "        const docLink = document.createElement('div');\n",
              "        docLink.innerHTML = docLinkHtml;\n",
              "        element.appendChild(docLink);\n",
              "      }\n",
              "    </script>\n",
              "  </div>\n",
              "\n",
              "\n",
              "    <div id=\"df-71ba074b-b720-4e4c-8c8f-1e21faa47db9\">\n",
              "      <button class=\"colab-df-quickchart\" onclick=\"quickchart('df-71ba074b-b720-4e4c-8c8f-1e21faa47db9')\"\n",
              "                title=\"Suggest charts\"\n",
              "                style=\"display:none;\">\n",
              "\n",
              "<svg xmlns=\"http://www.w3.org/2000/svg\" height=\"24px\"viewBox=\"0 0 24 24\"\n",
              "     width=\"24px\">\n",
              "    <g>\n",
              "        <path d=\"M19 3H5c-1.1 0-2 .9-2 2v14c0 1.1.9 2 2 2h14c1.1 0 2-.9 2-2V5c0-1.1-.9-2-2-2zM9 17H7v-7h2v7zm4 0h-2V7h2v10zm4 0h-2v-4h2v4z\"/>\n",
              "    </g>\n",
              "</svg>\n",
              "      </button>\n",
              "\n",
              "<style>\n",
              "  .colab-df-quickchart {\n",
              "      --bg-color: #E8F0FE;\n",
              "      --fill-color: #1967D2;\n",
              "      --hover-bg-color: #E2EBFA;\n",
              "      --hover-fill-color: #174EA6;\n",
              "      --disabled-fill-color: #AAA;\n",
              "      --disabled-bg-color: #DDD;\n",
              "  }\n",
              "\n",
              "  [theme=dark] .colab-df-quickchart {\n",
              "      --bg-color: #3B4455;\n",
              "      --fill-color: #D2E3FC;\n",
              "      --hover-bg-color: #434B5C;\n",
              "      --hover-fill-color: #FFFFFF;\n",
              "      --disabled-bg-color: #3B4455;\n",
              "      --disabled-fill-color: #666;\n",
              "  }\n",
              "\n",
              "  .colab-df-quickchart {\n",
              "    background-color: var(--bg-color);\n",
              "    border: none;\n",
              "    border-radius: 50%;\n",
              "    cursor: pointer;\n",
              "    display: none;\n",
              "    fill: var(--fill-color);\n",
              "    height: 32px;\n",
              "    padding: 0;\n",
              "    width: 32px;\n",
              "  }\n",
              "\n",
              "  .colab-df-quickchart:hover {\n",
              "    background-color: var(--hover-bg-color);\n",
              "    box-shadow: 0 1px 2px rgba(60, 64, 67, 0.3), 0 1px 3px 1px rgba(60, 64, 67, 0.15);\n",
              "    fill: var(--button-hover-fill-color);\n",
              "  }\n",
              "\n",
              "  .colab-df-quickchart-complete:disabled,\n",
              "  .colab-df-quickchart-complete:disabled:hover {\n",
              "    background-color: var(--disabled-bg-color);\n",
              "    fill: var(--disabled-fill-color);\n",
              "    box-shadow: none;\n",
              "  }\n",
              "\n",
              "  .colab-df-spinner {\n",
              "    border: 2px solid var(--fill-color);\n",
              "    border-color: transparent;\n",
              "    border-bottom-color: var(--fill-color);\n",
              "    animation:\n",
              "      spin 1s steps(1) infinite;\n",
              "  }\n",
              "\n",
              "  @keyframes spin {\n",
              "    0% {\n",
              "      border-color: transparent;\n",
              "      border-bottom-color: var(--fill-color);\n",
              "      border-left-color: var(--fill-color);\n",
              "    }\n",
              "    20% {\n",
              "      border-color: transparent;\n",
              "      border-left-color: var(--fill-color);\n",
              "      border-top-color: var(--fill-color);\n",
              "    }\n",
              "    30% {\n",
              "      border-color: transparent;\n",
              "      border-left-color: var(--fill-color);\n",
              "      border-top-color: var(--fill-color);\n",
              "      border-right-color: var(--fill-color);\n",
              "    }\n",
              "    40% {\n",
              "      border-color: transparent;\n",
              "      border-right-color: var(--fill-color);\n",
              "      border-top-color: var(--fill-color);\n",
              "    }\n",
              "    60% {\n",
              "      border-color: transparent;\n",
              "      border-right-color: var(--fill-color);\n",
              "    }\n",
              "    80% {\n",
              "      border-color: transparent;\n",
              "      border-right-color: var(--fill-color);\n",
              "      border-bottom-color: var(--fill-color);\n",
              "    }\n",
              "    90% {\n",
              "      border-color: transparent;\n",
              "      border-bottom-color: var(--fill-color);\n",
              "    }\n",
              "  }\n",
              "</style>\n",
              "\n",
              "      <script>\n",
              "        async function quickchart(key) {\n",
              "          const quickchartButtonEl =\n",
              "            document.querySelector('#' + key + ' button');\n",
              "          quickchartButtonEl.disabled = true;  // To prevent multiple clicks.\n",
              "          quickchartButtonEl.classList.add('colab-df-spinner');\n",
              "          try {\n",
              "            const charts = await google.colab.kernel.invokeFunction(\n",
              "                'suggestCharts', [key], {});\n",
              "          } catch (error) {\n",
              "            console.error('Error during call to suggestCharts:', error);\n",
              "          }\n",
              "          quickchartButtonEl.classList.remove('colab-df-spinner');\n",
              "          quickchartButtonEl.classList.add('colab-df-quickchart-complete');\n",
              "        }\n",
              "        (() => {\n",
              "          let quickchartButtonEl =\n",
              "            document.querySelector('#df-71ba074b-b720-4e4c-8c8f-1e21faa47db9 button');\n",
              "          quickchartButtonEl.style.display =\n",
              "            google.colab.kernel.accessAllowed ? 'block' : 'none';\n",
              "        })();\n",
              "      </script>\n",
              "    </div>\n",
              "\n",
              "    </div>\n",
              "  </div>\n"
            ],
            "application/vnd.google.colaboratory.intrinsic+json": {
              "type": "dataframe"
            }
          },
          "metadata": {}
        }
      ]
    },
    {
      "cell_type": "markdown",
      "source": [
        "Dataset is loaded from the Kaggle using kagglehub integration. The specific dataset used is the Credit Card Fraud Detection dataset which has huge credit card transactions made by European cardholders in September 2013.\n",
        "\n",
        "The file **creditcard.csv** was extracted from the kaggel and read directly into the pandas DataFrame. The dataset consists of 284,807 records and 31 columns and each row represents  one transaction."
      ],
      "metadata": {
        "id": "DVTjBHoQNGXE"
      },
      "id": "DVTjBHoQNGXE"
    },
    {
      "cell_type": "markdown",
      "source": [
        "# Data Exploration"
      ],
      "metadata": {
        "id": "GyK7XLaHSRZU"
      },
      "id": "GyK7XLaHSRZU"
    },
    {
      "cell_type": "code",
      "source": [
        "\n",
        "print(\"\\nClass distribution:\")\n",
        "print(df['Class'].value_counts())\n",
        "\n",
        "sns.countplot(x='Class', data=df)\n",
        "plt.title(\"Class Distribution (0: Non-Fraud, 1: Fraud)\")\n",
        "plt.xlabel(\"Class\")\n",
        "plt.ylabel(\"Count\")\n",
        "plt.show()"
      ],
      "metadata": {
        "colab": {
          "base_uri": "https://localhost:8080/",
          "height": 579
        },
        "id": "5SE8RuQISYIT",
        "outputId": "75fc2c6c-65b7-4457-bd14-4e307c859676"
      },
      "id": "5SE8RuQISYIT",
      "execution_count": null,
      "outputs": [
        {
          "output_type": "stream",
          "name": "stdout",
          "text": [
            "\n",
            "Class distribution:\n",
            "Class\n",
            "0    284315\n",
            "1       492\n",
            "Name: count, dtype: int64\n"
          ]
        },
        {
          "output_type": "display_data",
          "data": {
            "text/plain": [
              "<Figure size 640x480 with 1 Axes>"
            ],
            "image/png": "[encoded data removed]"
          },
          "metadata": {}
        }
      ]
    },
    {
      "cell_type": "markdown",
      "source": [
        "The dataset consistsof 284,807 credit card transactions with 30 attributes which includes anonymized features V1 to V28, Time, Amount and target Class.\n",
        "\n",
        "By inspecting the data there is  no missing values were found. However a huge class imbalance was observed that only 492 of the transactions are labeled as fraudu. This imbalance poses a challenge as machine learning models trained on such data may be biased towards the majority class. Moreover the Time and Amount features are not normalized and display a wide range of values unlike the already scaled PCA components V1toV28.\n",
        "\n"
      ],
      "metadata": {
        "id": "sCMPrJV4fCre"
      },
      "id": "sCMPrJV4fCre"
    },
    {
      "cell_type": "markdown",
      "source": [
        "# Data Preprocessing"
      ],
      "metadata": {
        "id": "4OrC__JKfyJq"
      },
      "id": "4OrC__JKfyJq"
    },
    {
      "cell_type": "code",
      "source": [
        "\n",
        "scaler = StandardScaler()\n",
        "df['Amount_scaled'] = scaler.fit_transform(df[['Amount']])\n",
        "df['Time_scaled'] = scaler.fit_transform(df[['Time']])\n",
        "\n",
        "df.drop(['Amount', 'Time'], axis=1, inplace=True)\n",
        "\n",
        "print(\"Updated columns:\", df.columns.tolist())\n"
      ],
      "metadata": {
        "colab": {
          "base_uri": "https://localhost:8080/"
        },
        "id": "mrshexD9SrkR",
        "outputId": "aa15b4ab-5524-4c33-d38a-1d2553b2fa2d"
      },
      "id": "mrshexD9SrkR",
      "execution_count": null,
      "outputs": [
        {
          "output_type": "stream",
          "name": "stdout",
          "text": [
            "Updated columns: ['V1', 'V2', 'V3', 'V4', 'V5', 'V6', 'V7', 'V8', 'V9', 'V10', 'V11', 'V12', 'V13', 'V14', 'V15', 'V16', 'V17', 'V18', 'V19', 'V20', 'V21', 'V22', 'V23', 'V24', 'V25', 'V26', 'V27', 'V28', 'Class', 'Amount_scaled', 'Time_scaled']\n"
          ]
        }
      ]
    },
    {
      "cell_type": "markdown",
      "source": [
        "For ensureing the  model performance the Time and Amount features were scaled by using the StandardScaler.This make them the same scale as the other features in the dataset and the original Time , Amount columns is dropped to prevent the redundancy.\n",
        "\n",
        "As there is  extreme  imbalance in the class we applied the SMOTE (Synthetic Minority Over sampling Technique) to oversample the Fraud class in the training set.The generation of minority examples helpes to balance the dataset which privents the  bias toward legit class. And  we are also  performedn train validation holdout split which ensurs that each split preserved the original class ratio that allowed us for unbiased evaluation of the model.\n",
        "\n"
      ],
      "metadata": {
        "id": "evB0ny7tgAyo"
      },
      "id": "evB0ny7tgAyo"
    },
    {
      "cell_type": "markdown",
      "source": [
        "# Feature Engineering"
      ],
      "metadata": {
        "id": "_MBdk5pGUzgl"
      },
      "id": "_MBdk5pGUzgl"
    },
    {
      "cell_type": "code",
      "source": [
        "\n",
        "df['V1_V2_ratio'] = df['V1'] / (df['V2'] + 1e-6)\n",
        "\n",
        "print(\"Final feature columns:\", df.drop(columns='Class').columns.tolist())"
      ],
      "metadata": {
        "colab": {
          "base_uri": "https://localhost:8080/"
        },
        "id": "ASwFEXpqUzzV",
        "outputId": "8c6ad724-e03f-43dd-b29e-6db3660933a1"
      },
      "id": "ASwFEXpqUzzV",
      "execution_count": null,
      "outputs": [
        {
          "output_type": "stream",
          "name": "stdout",
          "text": [
            "Final feature columns: ['V1', 'V2', 'V3', 'V4', 'V5', 'V6', 'V7', 'V8', 'V9', 'V10', 'V11', 'V12', 'V13', 'V14', 'V15', 'V16', 'V17', 'V18', 'V19', 'V20', 'V21', 'V22', 'V23', 'V24', 'V25', 'V26', 'V27', 'V28', 'Amount_scaled', 'Time_scaled', 'V1_V2_ratio']\n"
          ]
        }
      ]
    },
    {
      "cell_type": "markdown",
      "source": [
        "Here we introduced a interaction feature which is the ratio between V1 and V2 as V1 / (V2 + 1e-6). This feature captures the potential non linear relationships between the two PCA components and  offering the additional discriminatory power to model.\n",
        "\n",
        "After the  preprocessing and feature engineering step the final dataset contains\n",
        "\n",
        "28 PCA components V1-V28\n",
        "\n",
        "2 scaled features Amount and Time\n",
        "\n",
        "1 interaction feature V1-V2 ratio\n",
        "\n",
        "So the total of 31 input features are used to train the model.\n",
        "\n"
      ],
      "metadata": {
        "id": "GV9tjWDdgO47"
      },
      "id": "GV9tjWDdgO47"
    },
    {
      "cell_type": "markdown",
      "source": [
        "# Train Holdout Split"
      ],
      "metadata": {
        "id": "DKQxbdbfV1yr"
      },
      "id": "DKQxbdbfV1yr"
    },
    {
      "cell_type": "code",
      "source": [
        "\n",
        "X = df.drop('Class', axis=1)\n",
        "y = df['Class']\n",
        "\n",
        "X_train, X_holdout, y_train, y_holdout = train_test_split(\n",
        "    X, y, test_size=0.2, random_state=42, stratify=y\n",
        ")\n",
        "\n",
        "print(f\"Training class distribution before SMOTE: {y_train.value_counts().to_dict()}\")\n",
        "print(f\"Holdout class distribution: {y_holdout.value_counts().to_dict()}\")"
      ],
      "metadata": {
        "colab": {
          "base_uri": "https://localhost:8080/"
        },
        "id": "4Sta-xE2V2lL",
        "outputId": "64bc73a3-7395-4874-a329-5ecad61a8b8b"
      },
      "id": "4Sta-xE2V2lL",
      "execution_count": null,
      "outputs": [
        {
          "output_type": "stream",
          "name": "stdout",
          "text": [
            "Training class distribution before SMOTE: {0: 227451, 1: 394}\n",
            "Holdout class distribution: {0: 56864, 1: 98}\n"
          ]
        }
      ]
    },
    {
      "cell_type": "markdown",
      "source": [
        "After the completion of data preprocessing and feature engineering steps we began the model preparation by separating the dataset into features x and the target y. To ensure the unbiased final evaluation of the model we hold 20% of the dataset as an unseen test set.\n",
        "\n",
        "This set is not touched during model training and tuning, providing a  estimate of the model performance in the production. The remaining 80% of the data was used to train and validate."
      ],
      "metadata": {
        "id": "_FkK-JoMhKON"
      },
      "id": "_FkK-JoMhKON"
    },
    {
      "cell_type": "markdown",
      "source": [
        "# Apply SMOTE"
      ],
      "metadata": {
        "id": "bRWfC_ZPWB1v"
      },
      "id": "bRWfC_ZPWB1v"
    },
    {
      "cell_type": "code",
      "source": [
        "\n",
        "smote = SMOTE(random_state=42)\n",
        "X_train_resampled, y_train_resampled = smote.fit_resample(X_train, y_train)\n",
        "\n",
        "print(f\"Training class distribution after SMOTE: {pd.Series(y_train_resampled).value_counts().to_dict()}\")\n",
        "\n",
        "X_train_final, X_val, y_train_final, y_val = train_test_split(\n",
        "    X_train_resampled, y_train_resampled,\n",
        "    test_size=0.2, random_state=42, stratify=y_train_resampled\n",
        ")\n",
        "\n",
        "print(f\"Train shape: {X_train_final.shape}, Validation shape: {X_val.shape}, Holdout shape: {X_holdout.shape}\")\n"
      ],
      "metadata": {
        "colab": {
          "base_uri": "https://localhost:8080/"
        },
        "id": "TCeHUSr9WA8M",
        "outputId": "e342c75a-2e9b-447a-ab67-642ab9f974a5"
      },
      "id": "TCeHUSr9WA8M",
      "execution_count": null,
      "outputs": [
        {
          "output_type": "stream",
          "name": "stdout",
          "text": [
            "Training class distribution after SMOTE: {0: 227451, 1: 227451}\n",
            "Train shape: (363921, 31), Validation shape: (90981, 31), Holdout shape: (56962, 31)\n"
          ]
        }
      ]
    },
    {
      "cell_type": "markdown",
      "source": [
        "To romove the class imbalance  we applied SMOTE  to the training set. SMOTE generates new fraud class examples by using existing one which result in a balanced training set which supports model learning.\n",
        "\n",
        "After SMOTE is applied to the training set we performed a second  split on  data to create the validation set and  used for monitoring the performance  during training.\n",
        "\n",
        "Data split included\n",
        "\n",
        "**Training set** used to train Deep neural network\n",
        "\n",
        "**Validation set** used for tuning the model\n",
        "\n",
        "**Holdout set** untouched until the final evaluation\n"
      ],
      "metadata": {
        "id": "iv6wGywnheTV"
      },
      "id": "iv6wGywnheTV"
    },
    {
      "cell_type": "markdown",
      "source": [
        "# Model Building and Training"
      ],
      "metadata": {
        "id": "ljZpAgteWfpw"
      },
      "id": "ljZpAgteWfpw"
    },
    {
      "cell_type": "code",
      "source": [
        "\n",
        "model = Sequential([\n",
        "    Input(shape=(X_train_final.shape[1],)),\n",
        "    Dense(128, activation='relu'),\n",
        "    BatchNormalization(),\n",
        "    Dropout(0.4),\n",
        "    Dense(64, activation='relu'),\n",
        "    BatchNormalization(),\n",
        "    Dropout(0.3),\n",
        "    Dense(32, activation='relu'),\n",
        "    Dropout(0.2),\n",
        "    Dense(1, activation='sigmoid')\n",
        "])\n",
        "\n",
        "model.compile(\n",
        "    optimizer=Adam(learning_rate=5e-4),\n",
        "    loss='binary_crossentropy',\n",
        "    metrics=['AUC']\n",
        ")\n",
        "\n",
        "early_stop = EarlyStopping(\n",
        "    monitor='val_loss',\n",
        "    patience=7,\n",
        "    restore_best_weights=True\n",
        ")\n",
        "\n",
        "history = model.fit(\n",
        "    X_train_final, y_train_final,\n",
        "    validation_data=(X_val, y_val),\n",
        "    epochs=60,\n",
        "    batch_size=1024,\n",
        "    callbacks=[early_stop],\n",
        "    verbose=1\n",
        ")\n"
      ],
      "metadata": {
        "colab": {
          "base_uri": "https://localhost:8080/"
        },
        "id": "qRo1ck0mWbMv",
        "outputId": "31a6137f-3c36-447d-e7f1-e98c67efa6af"
      },
      "id": "qRo1ck0mWbMv",
      "execution_count": null,
      "outputs": [
        {
          "output_type": "stream",
          "name": "stdout",
          "text": [
            "Epoch 1/60\n",
            "\u001b[1m356/356\u001b[0m \u001b[32m━━━━━━━━━━━━━━━━━━━━\u001b[0m\u001b[37m\u001b[0m \u001b[1m13s\u001b[0m 14ms/step - AUC: 0.9436 - loss: 0.2819 - val_AUC: 0.9931 - val_loss: 0.1519\n",
            "Epoch 2/60\n",
            "\u001b[1m356/356\u001b[0m \u001b[32m━━━━━━━━━━━━━━━━━━━━\u001b[0m\u001b[37m\u001b[0m \u001b[1m5s\u001b[0m 14ms/step - AUC: 0.9956 - loss: 0.0828 - val_AUC: 0.9984 - val_loss: 0.1193\n",
            "Epoch 3/60\n",
            "\u001b[1m356/356\u001b[0m \u001b[32m━━━━━━━━━━━━━━━━━━━━\u001b[0m\u001b[37m\u001b[0m \u001b[1m5s\u001b[0m 14ms/step - AUC: 0.9980 - loss: 0.0522 - val_AUC: 0.9994 - val_loss: 0.0838\n",
            "Epoch 4/60\n",
            "\u001b[1m356/356\u001b[0m \u001b[32m━━━━━━━━━━━━━━━━━━━━\u001b[0m\u001b[37m\u001b[0m \u001b[1m5s\u001b[0m 12ms/step - AUC: 0.9987 - loss: 0.0391 - val_AUC: 0.9996 - val_loss: 0.2345\n",
            "Epoch 5/60\n",
            "\u001b[1m356/356\u001b[0m \u001b[32m━━━━━━━━━━━━━━━━━━━━\u001b[0m\u001b[37m\u001b[0m \u001b[1m6s\u001b[0m 16ms/step - AUC: 0.9991 - loss: 0.0310 - val_AUC: 0.9996 - val_loss: 0.2893\n",
            "Epoch 6/60\n",
            "\u001b[1m356/356\u001b[0m \u001b[32m━━━━━━━━━━━━━━━━━━━━\u001b[0m\u001b[37m\u001b[0m \u001b[1m9s\u001b[0m 13ms/step - AUC: 0.9991 - loss: 0.0264 - val_AUC: 0.9983 - val_loss: 0.3081\n",
            "Epoch 7/60\n",
            "\u001b[1m356/356\u001b[0m \u001b[32m━━━━━━━━━━━━━━━━━━━━\u001b[0m\u001b[37m\u001b[0m \u001b[1m5s\u001b[0m 14ms/step - AUC: 0.9993 - loss: 0.0223 - val_AUC: 0.9950 - val_loss: 0.3795\n",
            "Epoch 8/60\n",
            "\u001b[1m356/356\u001b[0m \u001b[32m━━━━━━━━━━━━━━━━━━━━\u001b[0m\u001b[37m\u001b[0m \u001b[1m4s\u001b[0m 12ms/step - AUC: 0.9994 - loss: 0.0196 - val_AUC: 0.9899 - val_loss: 0.5616\n",
            "Epoch 9/60\n",
            "\u001b[1m356/356\u001b[0m \u001b[32m━━━━━━━━━━━━━━━━━━━━\u001b[0m\u001b[37m\u001b[0m \u001b[1m6s\u001b[0m 15ms/step - AUC: 0.9995 - loss: 0.0182 - val_AUC: 0.9820 - val_loss: 0.5872\n",
            "Epoch 10/60\n",
            "\u001b[1m356/356\u001b[0m \u001b[32m━━━━━━━━━━━━━━━━━━━━\u001b[0m\u001b[37m\u001b[0m \u001b[1m5s\u001b[0m 15ms/step - AUC: 0.9995 - loss: 0.0161 - val_AUC: 0.9481 - val_loss: 1.0614\n"
          ]
        }
      ]
    },
    {
      "cell_type": "markdown",
      "source": [
        "I designed and trained the deep neural network using Keras/TensorFlow.Architecture was carefully tuned to improved over a baseline version  based on the experimental results\n",
        "\n",
        "**Input Layer** accepts 31 input features which includes scaled and engineered features.\n",
        "\n",
        "**Dense Layers** increased first layer size from 64 to 128 units with ReLU activation to capture  the complex patterns. And added a second hidden layer with 64 units which  improved the model capacity.And a third layer with 32 units for the deeper abstraction.\n",
        "\n",
        "**Batch Normalization **applied after the key layers to accelerate and stabilize the training.\n",
        "\n",
        "**Dropout Layers** strategically varied from 0.4 → 0.3 → 0.2 to reduce overfitting by preserving the learning capacity.\n",
        "\n",
        "**Output Layer** A single neuron with the sigmoid activation to predict fraud probability.\n",
        "\n",
        "**The model was compiled with**\n",
        "\n",
        "binary crossentropy loss\n",
        "\n",
        "Adam optimizer with a learning rate of 5e-4 which is higher than  baseline for faster convergence\n",
        "\n",
        "AUC as the primary evaluation metric aligning with the dataset and business goal of max fraud detection performance.\n",
        "\n",
        "I employed early stopping with a patience of 7 epochs to avoid  the overfitting restoring the best model weights. The model was trained for up to 60 epochs using the batch size 1024 which allow effective GPU utilization and smoother dynamics.\n",
        "\n"
      ],
      "metadata": {
        "id": "bNpw5xFGiKGo"
      },
      "id": "bNpw5xFGiKGo"
    },
    {
      "cell_type": "markdown",
      "source": [
        "# Expermeantation"
      ],
      "metadata": {
        "id": "t7M1aRQtEPol"
      },
      "id": "t7M1aRQtEPol"
    },
    {
      "cell_type": "markdown",
      "source": [
        "\n",
        "\n",
        "| **No.** | **Component**               | ** Base Model**         | **Final Model**               | **Rationale for Change**                                                                            | **Impact on Performance**                         |\n",
        "| ------: | --------------------------- | -------------------------------- | ------------------------------------------- | --------------------------------------------------------------------------------------------------- | ------------------------------------------------- |\n",
        "|       1 | **Dense Layer 1 Units**     | 64                               | **128**                                     | Increased neurons to improve the model capacity for more complex fraud patterns.                             | Improved learning capacity and also faster AUC gain.   |\n",
        "|       2 | **Added Hidden Layer**      |  No additional hidden layer     | Added a second Dense layer 64 units | Adding depth which alowed the network to learn more complex representations.                             | Boosted the recall and helped to capture minority class. |\n",
        "|       3 | **Dropout (Layer 1)**       | 0.5                              | 0.4                                    | Slightly reduced to improve the training stability .                    | Reduced the over regularisation and also recall improved.    |\n",
        "|       4 | **Dropout (Layer 2)**       | Not present                      | 0.3                                  | New layer required the regularisation to prevent overfitting.                                           | Improved the generalization.                          |\n",
        "|       5 | **Dropout (Layer 3)**       | 0.5                              | 0.2                                     | Reduced to enable the gradient flow through  the deeper layers of the network.                                       | Enhanced the model convergence.                       |\n",
        "|       6 | **Batch Normalization**     |  Not used                       | Used after first two hidden layers  | Helps in stabilize training and reduces the internal covariate shift.                                         | Fast and smooth convergence.                  |\n",
        "|       7 | **Optimizer LR**            | Adam with 1e-4               | Adam with 5e-4                         | Increased learning rate to accelerate  the training and escape flat local minima.                        | Improved early performance and speed.             |\n",
        "|       8 | **Early Stopping Patience** | 5                                | 7                                      | Increased to allow learning to continue slightly longer before stopping.                            | Reduced the premature stopping.                       |\n",
        "|       9 | **Epochs**                  | 50                               | 60                                     | Allowed more time to train for better fitting in deeper architecture.                 | allowed model to reach stable AUC before stopping.    |\n",
        "|      10 | **Batch Size**              | 2048                             | 1024                                    | Smaller batch size provides more frequent weight update.                 | Boosted validation recall and F1 score.           |\n",
        "|      11 | **Feature Engineering**     | Only original features with scaling | Added V1/V2 ratio feature             | Introduced the domain inspired interaction term which could highlight relationships between the variables. | Slightly improved  in recall and AUC.             |\n",
        "|      12 | **Data Balancing**          | SMOTE                  | SMOTE with stratified train/val split | Added a separate validation split to the post SMOTE to better monitor  the model generalization.                | Improved the model robustness.                        |\n",
        "\n",
        "\n",
        "Summary of Results\n",
        "\n",
        "| **Model** | **Holdout AUC** | **Fraud Recall** | **Fraud Precision** | **F1-score** | **Notes**                             |\n",
        "| --------: | --------------: | ---------------: | ------------------: | -----------: | ------------------------------------- |\n",
        "|   **Base model** |          0.9810 |            90.8% |               16.9% |        0.285 | Strong but overfitting risk is observed in the model. |\n",
        "|   **Final model** |      **0.9704** |        **88.8%** |           **17.9%** |    **0.297** | Better generalization and more stable.   |\n",
        "\n",
        "\n"
      ],
      "metadata": {
        "id": "jCx4pA2mE7o9"
      },
      "id": "jCx4pA2mE7o9"
    },
    {
      "cell_type": "markdown",
      "source": [
        "**Why We Chose Our Final Model**\n",
        "After conducting  several experiments and evaluating the different neural network configurations I selected the this model as our final architecture because of the below resons.\n",
        "\n",
        "\n",
        "**1. Balanced Performance**\n",
        "The final model achieved the strong AUC of 0.9704 on the unseen holdout set which indicat robust discriminative power between fraudu and Legit transactions.\n",
        "\n",
        "Despite a small decrease in AUC compared to base model  0.9810 the final model achieved better fraud precision 17.9% vs 16.9% and higher F1 score 0.297 vs 0.285.\n",
        "\n",
        "This conclude that the the final model is a better balance between precision and recall which is crutial  in fraud detection where both the false positives and false negatives both carry the business costs.\n",
        "\n",
        "**2. Improved Generalization**\n",
        "final model underwent several architectural changes such as Batch Normalization, more layers and  smaller batch size to prevent overfitting observed in the base model.\n",
        "\n",
        "original model showed signs of overfitting even though it performed very well on validation its performance dropped slightly on unseen holdout set.\n",
        "\n",
        "final model had a more stable training curve and not overfit as aggressively as base model. It gives us more confidence in its readiness in deployment.\n",
        "\n",
        "**3. Data Informed Architecture Tweaks**\n",
        "Based on experimentation\n",
        "\n",
        "I increased the model depth to allow learning from  more complex fraud patterns.\n",
        "\n",
        "I also adjusted the dropout rates and added batch normalization to regularize training without underfitting.\n",
        "\n",
        "I also used domain inspired features like the V1/V2 ratio to enrich the input space.\n",
        "\n",
        "\n",
        "**4. Better Alignment with Business Goals**\n",
        "In the fraud detection recall is sensitivity and often prioritized and we want to catch as many frauds as possible.\n",
        "\n",
        "Buy very low precision can overwhelm manual reviewers with too much false alerts.\n",
        "\n",
        "final model provides a slightly better precision recall tradeoff which means fewer false positives and more true positives caught early.\n",
        "\n",
        "\n",
        "**5. Scalability and Interpretability**\n",
        "The final model also maintains a good  number of parameters which making it efficient for the real time fraud screening.\n"
      ],
      "metadata": {
        "id": "K_t8EKLOHn-a"
      },
      "id": "K_t8EKLOHn-a"
    },
    {
      "cell_type": "markdown",
      "source": [
        "# Model Evaluation on Holdout Set."
      ],
      "metadata": {
        "id": "37JZgmNrYC9Y"
      },
      "id": "37JZgmNrYC9Y"
    },
    {
      "cell_type": "code",
      "source": [
        "\n",
        "y_pred_prob = model.predict(X_holdout).ravel()\n",
        "\n",
        "y_pred = (y_pred_prob >= 0.5).astype(int)\n",
        "\n",
        "auc_score = roc_auc_score(y_holdout, y_pred_prob)\n",
        "print(f\"Holdout AUC: {auc_score:.4f}\")\n",
        "\n",
        "print(\"\\nClassification Report:\")\n",
        "print(classification_report(y_holdout, y_pred, digits=4))\n",
        "\n",
        "print(\"Confusion Matrix:\")\n",
        "print(confusion_matrix(y_holdout, y_pred))\n",
        "\n",
        "RocCurveDisplay.from_predictions(y_holdout, y_pred_prob)\n",
        "plt.title(\"ROC Curve - Holdout Set\")\n",
        "plt.grid(True)\n",
        "plt.show()"
      ],
      "metadata": {
        "colab": {
          "base_uri": "https://localhost:8080/",
          "height": 758
        },
        "id": "hKeJvxeeYDeo",
        "outputId": "c5c2c472-dae5-44f0-dc9e-7b2f208765b7"
      },
      "id": "hKeJvxeeYDeo",
      "execution_count": null,
      "outputs": [
        {
          "output_type": "stream",
          "name": "stdout",
          "text": [
            "\u001b[1m1781/1781\u001b[0m \u001b[32m━━━━━━━━━━━━━━━━━━━━\u001b[0m\u001b[37m\u001b[0m \u001b[1m3s\u001b[0m 1ms/step\n",
            "Holdout AUC: 0.9704\n",
            "\n",
            "Classification Report:\n",
            "              precision    recall  f1-score   support\n",
            "\n",
            "           0     0.9998    0.9979    0.9989     56864\n",
            "           1     0.4216    0.8776    0.5695        98\n",
            "\n",
            "    accuracy                         0.9977     56962\n",
            "   macro avg     0.7107    0.9377    0.7842     56962\n",
            "weighted avg     0.9988    0.9977    0.9981     56962\n",
            "\n",
            "Confusion Matrix:\n",
            "[[56746   118]\n",
            " [   12    86]]\n"
          ]
        },
        {
          "output_type": "display_data",
          "data": {
            "text/plain": [
              "<Figure size 640x480 with 1 Axes>"
            ],
            "image/png": "[encoded data removed]"
          },
          "metadata": {}
        }
      ]
    },
    {
      "cell_type": "markdown",
      "source": [
        "**Evaluation Metrics**\n",
        "\n",
        "In the context of the credit card fraud detection selecting the appropriate evaluation metrics is very crucial due to very high imbalanced dataset.The fraud transactions make up a very small percentage of overall transactions. Here are the key metrics we used and why they matter:\n",
        "\n",
        "| Metric               | Purpose                              | Why It’s Important                 | Final Model Value |\n",
        "| -------------------- | ------------------------------------ | ---------------------------------- | ----------------- |\n",
        "| **AUC**              | Class separation     | Handles imbalance well             | **0.9704**        |\n",
        "| **Precision**        | Accuracy of the fraud predictions        | Limits the false positives             | **0.179**         |\n",
        "| **Recall**           | How many frauds are catched             | Limits the missed frauds               | **0.888**         |\n",
        "| **F1-score**         | Balance between precision and recall | Summary measure for the  fraud class    | **0.297**         |\n",
        "| **Confusion Matrix** | Breakdown of raw outcome              | Helps to visualize misclassifications | ✓ Included        |\n",
        "\n",
        "\n",
        "\n",
        "I selected these metrics because they align with our business priorities in fraud detection\n",
        "\n",
        "Catching the fraud transaction (high recall),\n",
        "\n",
        "Avoiding the false alarms (reasonable precision),\n",
        "\n",
        "Ensuring balanced on overall performance of the model(F1 and AUC).\n",
        "\n",
        "they provide a comprehensive evaluation of the models effectiveness."
      ],
      "metadata": {
        "id": "yb6VZI_Qiday"
      },
      "id": "yb6VZI_Qiday"
    },
    {
      "cell_type": "markdown",
      "source": [
        "## **Final Discussion**\n",
        "## Overview of the Pipeline\n",
        "The main objective is to build a robust, end to end machine learning pipeline using  the deep neural network to detect credit card fraud. The final pipeline involved\n",
        "\n",
        "1.Cleaning and preprocessing the dataset using scaling and feature engineering.\n",
        "\n",
        "2.Addressing the lass imbalance with SMOTE.\n",
        "\n",
        "3.Building,training a tuned deep neural network\n",
        "\n",
        "\n",
        "\n",
        "## Strengths of the Proposed Solution\n",
        "\n",
        "1.Our final model  included 3 dense layers with dropout and batch normalization that improved generalization and learning capacity of the model.\n",
        "\n",
        "2.Effective Handling of theImbalanced Class\tUsing SMOTE on the training data before splitting into validation ensured the model had balanced exposure to both the classes.\n",
        "\n",
        "3.Solid Evaluation Framework\tWe used multiple metrics such as  AUC, Precision, Recall, F1-score and Confusion Matrix to view the performance from different angles.\n",
        "\n",
        "4.Generalizable to the Unseen Data\tHoldout AUC of 0.9704 shows how strongly performaed on unseen data indicating the model is generalising well.\n",
        "\n",
        "5.We done the clear experimentation processfrom base model to get our final model that allowed us to measure the incremental gains of each design change.\n",
        "\n",
        "## Limitations\n",
        "\n",
        "1.Despite having high recall we still have Lower Precision on the Fraud Class.Precision of the frauds remained 18%.\n",
        "\n",
        "2.No Cost Sensitive Learning\tthe model does not yet account for the  businesssspecific misclassification costs like flagging a legitimate transaction vs. missing a fraud.\n",
        "\n",
        "3.No Temporal Validation\tTime-aware splits or drift detection could further validate real-world model robustness.\n",
        "\n",
        "## Implications for the Business Problem\n",
        "\n",
        "1.High recall of 89% which means the system can detect almost all the fraud transactions, reducing the potential financial losses in the company.\n",
        "\n",
        "2.Reasonable precision of 18% which means manual fraud investigation teams will still face some false positives but at  manageable level.\n",
        "\n",
        "3.This pipeline enables automated early detection of the  potentially flagging frauds in real time wich  improve both customer trust and operational efficiency.\n",
        "\n",
        "## Most Informative Features\n",
        "\n",
        "1.Engineered feature  V1/V2 ratio likely contribute useful interaction effects in the pipeline.\n",
        "\n",
        "2.Features such as V10, V12 and V14 are historically known to  correlated with the fraud based on PCA transformed patterns.\n",
        "\n",
        "3.Amount_scaled also helps the network distinguish between suspicious amount transaction and normal amout transaction behavior.\n",
        "\n",
        "\n",
        "## Deployment Readiness\n",
        "\n",
        "The model is ready to deploy by doing the below things\n",
        "\n",
        "1.Needs to integration with the real time scoring pipeline.\n",
        "\n",
        "2.Model should be monitored in production for the data drift and model decay.\n",
        "\n",
        "3.Explainability and alert threshold customisation should be added for real world adoption.\n",
        "\n",
        "## Final Recommendations\n",
        "\n",
        "1.Integrate SHAP\tFor improving the  transparency of the model and also the business interpretability.\n",
        "2.Add the threshold tuning\tand Optimize precision recall tradeoff depending on the investigation bandwidth.\n",
        "3.Monitor model post deployment\tUse dashboards to track AUC, drift and fraud trends.\n",
        "\n",
        "This Model of DNN shows how deep learning can be effectively tackle the fraud detection in the tabular data and is a strong starting point for further enhancements in precision and explainability for business critical use."
      ],
      "metadata": {
        "id": "vBS1_M5KJ5A-"
      },
      "id": "vBS1_M5KJ5A-"
    }
  ],
  "metadata": {
    "colab": {
      "provenance": []
    },
    "kernelspec": {
      "display_name": "Python 3",
      "name": "python3"
    },
    "language_info": {
      "name": "python"
    }
  },
  "nbformat": 4,
  "nbformat_minor": 5
}